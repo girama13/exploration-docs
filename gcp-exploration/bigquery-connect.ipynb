{
 "cells": [
  {
   "cell_type": "code",
   "execution_count": 1,
   "metadata": {},
   "outputs": [],
   "source": [
    "from google.cloud import bigquery\n",
    "from google.oauth2 import service_account\n",
    "\n",
    "# TODO(developer): Set key_path to the path to the service account key\n",
    "#                  file.\n",
    "key_path = \"dummy-service-account.json\"\n",
    "\n",
    "credentials = service_account.Credentials.from_service_account_file(\n",
    "    key_path, scopes=[\"https://www.googleapis.com/auth/cloud-platform\"],\n",
    ")\n",
    "\n"
   ]
  },
  {
   "cell_type": "code",
   "execution_count": 9,
   "metadata": {},
   "outputs": [
    {
     "name": "stdout",
     "output_type": "stream",
     "text": [
      "dummy-data-project-361003\n"
     ]
    }
   ],
   "source": [
    "print(credentials.project_id)"
   ]
  },
  {
   "cell_type": "code",
   "execution_count": null,
   "metadata": {},
   "outputs": [],
   "source": [
    "client = bigquery.Client(credentials=credentials, project=credentials.project_id)"
   ]
  },
  {
   "cell_type": "code",
   "execution_count": 14,
   "metadata": {},
   "outputs": [
    {
     "name": "stdout",
     "output_type": "stream",
     "text": [
      "warehouse_dummy\n"
     ]
    }
   ],
   "source": [
    "datasets = client.list_datasets()\n",
    "for dataset in datasets:\n",
    "    print(dataset.dataset_id)"
   ]
  },
  {
   "cell_type": "code",
   "execution_count": 15,
   "metadata": {},
   "outputs": [
    {
     "name": "stdout",
     "output_type": "stream",
     "text": [
      "cycle_hire\n",
      "cycle_stations\n"
     ]
    }
   ],
   "source": [
    "tables = client.list_tables(dataset='warehouse_dummy')\n",
    "for table in tables:\n",
    "    print(table.table_id)"
   ]
  },
  {
   "cell_type": "code",
   "execution_count": 21,
   "metadata": {},
   "outputs": [],
   "source": [
    "query = \"\"\"\n",
    "select * \n",
    "from `dummy-data-project-361003.warehouse_dummy.cycle_stations` \n",
    "limit 5\n",
    "\"\"\"\n",
    "result = client.query(query)"
   ]
  },
  {
   "cell_type": "code",
   "execution_count": 22,
   "metadata": {},
   "outputs": [
    {
     "data": {
      "text/plain": [
       "google.cloud.bigquery.job.query.QueryJob"
      ]
     },
     "execution_count": 22,
     "metadata": {},
     "output_type": "execute_result"
    }
   ],
   "source": [
    "type(result)"
   ]
  },
  {
   "cell_type": "code",
   "execution_count": 23,
   "metadata": {},
   "outputs": [
    {
     "name": "stdout",
     "output_type": "stream",
     "text": [
      "<class 'google.cloud.bigquery.table.Row'>\n",
      "Row((280, True, 51.490083, False, -0.162418, 'Royal Avenue 2, Chelsea', 3, 10, 7, False, 3462, datetime.date(2010, 7, 21), None), {'id': 0, 'installed': 1, 'latitude': 2, 'locked': 3, 'longitude': 4, 'name': 5, 'bikes_count': 6, 'docks_count': 7, 'nbEmptyDocks': 8, 'temporary': 9, 'terminal_name': 10, 'install_date': 11, 'removal_date': 12})\n",
      "<class 'google.cloud.bigquery.table.Row'>\n",
      "Row((250, True, 51.489932, False, -0.162727, 'Royal Avenue 1, Chelsea', 6, 10, 4, False, 3440, datetime.date(2010, 7, 20), None), {'id': 0, 'installed': 1, 'latitude': 2, 'locked': 3, 'longitude': 4, 'name': 5, 'bikes_count': 6, 'docks_count': 7, 'nbEmptyDocks': 8, 'temporary': 9, 'terminal_name': 10, 'install_date': 11, 'removal_date': 12})\n",
      "<class 'google.cloud.bigquery.table.Row'>\n",
      "Row((334, True, 51.505044, False, -0.115851, 'Concert Hall Approach 1, South Bank', 10, 10, 0, False, 2635, datetime.date(2010, 7, 26), None), {'id': 0, 'installed': 1, 'latitude': 2, 'locked': 3, 'longitude': 4, 'name': 5, 'bikes_count': 6, 'docks_count': 7, 'nbEmptyDocks': 8, 'temporary': 9, 'terminal_name': 10, 'install_date': 11, 'removal_date': 12})\n",
      "<class 'google.cloud.bigquery.table.Row'>\n",
      "Row((404, True, 51.50204238, False, -0.184400221, 'Palace Gate, Kensington Gardens', 0, 13, 12, False, 1110, datetime.date(2011, 3, 9), None), {'id': 0, 'installed': 1, 'latitude': 2, 'locked': 3, 'longitude': 4, 'name': 5, 'bikes_count': 6, 'docks_count': 7, 'nbEmptyDocks': 8, 'temporary': 9, 'terminal_name': 10, 'install_date': 11, 'removal_date': 12})\n",
      "<class 'google.cloud.bigquery.table.Row'>\n",
      "Row((432, True, 51.496468, False, -0.17379696, 'Exhibition Road Museums 1, South Kensington', 0, 13, 13, False, 22158, datetime.date(2011, 10, 24), None), {'id': 0, 'installed': 1, 'latitude': 2, 'locked': 3, 'longitude': 4, 'name': 5, 'bikes_count': 6, 'docks_count': 7, 'nbEmptyDocks': 8, 'temporary': 9, 'terminal_name': 10, 'install_date': 11, 'removal_date': 12})\n"
     ]
    }
   ],
   "source": [
    "for res in result:\n",
    "    print(type(res))\n",
    "    print(res)"
   ]
  }
 ],
 "metadata": {
  "kernelspec": {
   "display_name": "Python 3.8.10 ('pyspark-pipeline')",
   "language": "python",
   "name": "python3"
  },
  "language_info": {
   "codemirror_mode": {
    "name": "ipython",
    "version": 3
   },
   "file_extension": ".py",
   "mimetype": "text/x-python",
   "name": "python",
   "nbconvert_exporter": "python",
   "pygments_lexer": "ipython3",
   "version": "3.8.10"
  },
  "orig_nbformat": 4,
  "vscode": {
   "interpreter": {
    "hash": "84632ae53a4eb0c5a44055d93f1e8ab4c136d06466b39a5fa2066c8748780e7c"
   }
  }
 },
 "nbformat": 4,
 "nbformat_minor": 2
}
