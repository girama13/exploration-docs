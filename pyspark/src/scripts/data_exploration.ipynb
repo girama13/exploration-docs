{
 "cells": [
  {
   "cell_type": "markdown",
   "metadata": {},
   "source": [
    "### Import used library \n",
    "To build the Spark Session, we need to import the library and load the pyspark function"
   ]
  },
  {
   "cell_type": "code",
   "execution_count": 1,
   "metadata": {},
   "outputs": [],
   "source": [
    "import os\n",
    "from pyspark.sql.functions import *\n",
    "from pyspark.sql import SparkSession"
   ]
  },
  {
   "cell_type": "code",
   "execution_count": 2,
   "metadata": {},
   "outputs": [
    {
     "name": "stderr",
     "output_type": "stream",
     "text": [
      "SLF4J: Class path contains multiple SLF4J bindings.\n",
      "SLF4J: Found binding in [jar:file:/home/gilangrama13/hadoop/spark3-hadoop3/jars/log4j-slf4j-impl-2.17.2.jar!/org/slf4j/impl/StaticLoggerBinder.class]\n",
      "SLF4J: Found binding in [jar:file:/home/gilangrama13/hadoop/hadoop/share/hadoop/common/lib/slf4j-reload4j-1.7.36.jar!/org/slf4j/impl/StaticLoggerBinder.class]\n",
      "SLF4J: Found binding in [jar:file:/home/gilangrama13/hadoop/hive/lib/log4j-slf4j-impl-2.17.1.jar!/org/slf4j/impl/StaticLoggerBinder.class]\n",
      "SLF4J: See http://www.slf4j.org/codes.html#multiple_bindings for an explanation.\n",
      "SLF4J: Actual binding is of type [org.apache.logging.slf4j.Log4jLoggerFactory]\n"
     ]
    },
    {
     "name": "stdout",
     "output_type": "stream",
     "text": [
      "2022-09-29T11:40:53,183 WARN [main] org.apache.spark.util.Utils - Your hostname, LAPTOP-T7AK0MN7 resolves to a loopback address: 127.0.1.1; using 172.29.178.233 instead (on interface eth0)\n",
      "2022-09-29T11:40:53,188 WARN [main] org.apache.spark.util.Utils - Set SPARK_LOCAL_IP if you need to bind to another address\n"
     ]
    },
    {
     "name": "stderr",
     "output_type": "stream",
     "text": [
      "Setting default log level to \"WARN\".\n",
      "To adjust logging level use sc.setLogLevel(newLevel). For SparkR, use setLogLevel(newLevel).\n"
     ]
    },
    {
     "name": "stdout",
     "output_type": "stream",
     "text": [
      "2022-09-29T11:41:04,345 WARN [Thread-4] org.apache.hadoop.util.NativeCodeLoader - Unable to load native-hadoop library for your platform... using builtin-java classes where applicable\n"
     ]
    }
   ],
   "source": [
    "spark = (\n",
    "    SparkSession\\\n",
    "    .builder\\\n",
    "    .master('local[*]')\\\n",
    "    .appName('my_spark_app')\\\n",
    "    .enableHiveSupport()\\\n",
    "    .getOrCreate())"
   ]
  },
  {
   "cell_type": "code",
   "execution_count": 4,
   "metadata": {},
   "outputs": [
    {
     "name": "stdout",
     "output_type": "stream",
     "text": [
      "2022-09-29T11:43:58,580 INFO [Thread-4] org.apache.hadoop.hive.conf.HiveConf - Found configuration file file:/home/gilangrama13/hadoop/hive/conf/hive-site.xml\n"
     ]
    },
    {
     "name": "stderr",
     "output_type": "stream",
     "text": [
      "Hive Session ID = eec526fb-72d3-4934-9e94-78c23eada66f\n"
     ]
    },
    {
     "name": "stdout",
     "output_type": "stream",
     "text": [
      "2022-09-29T11:43:58,803 INFO [Thread-4] SessionState - Hive Session ID = eec526fb-72d3-4934-9e94-78c23eada66f\n",
      "2022-09-29T11:43:59,008 INFO [Thread-4] org.apache.hadoop.hive.metastore.HiveMetaStoreClient - Trying to connect to metastore with URI thrift://localhost:9083\n",
      "2022-09-29T11:43:59,043 INFO [Thread-4] org.apache.hadoop.hive.metastore.HiveMetaStoreClient - Opened a connection to metastore, current connections: 1\n",
      "2022-09-29T11:43:59,181 INFO [Thread-4] org.apache.hadoop.hive.metastore.HiveMetaStoreClient - Connected to metastore.\n",
      "2022-09-29T11:43:59,181 INFO [Thread-4] org.apache.hadoop.hive.metastore.RetryingMetaStoreClient - RetryingMetaStoreClient proxy=class org.apache.hadoop.hive.ql.metadata.SessionHiveMetaStoreClient ugi=gilangrama13 (auth:SIMPLE) retries=1 delay=1 lifetime=0\n",
      "+-----------------+\n",
      "|        namespace|\n",
      "+-----------------+\n",
      "|          default|\n",
      "|user_warehouse_db|\n",
      "+-----------------+\n",
      "\n"
     ]
    }
   ],
   "source": [
    "spark.sql(\"show databases\").show()"
   ]
  },
  {
   "cell_type": "markdown",
   "metadata": {},
   "source": [
    "### Load data\n",
    "By default, spark can load data from **HDFS**, if you want to load from local data you have to add `file://` as prefix."
   ]
  },
  {
   "cell_type": "code",
   "execution_count": 5,
   "metadata": {},
   "outputs": [],
   "source": [
    "def loadLocalData(dataName):\n",
    "    current_dir = os.getcwd()\n",
    "    datapath = \"file://{}/../data/{}\".format(current_dir, dataName)\n",
    "    return spark.read.csv(datapath, header=True, sep=\",\")"
   ]
  },
  {
   "cell_type": "code",
   "execution_count": 6,
   "metadata": {},
   "outputs": [
    {
     "name": "stderr",
     "output_type": "stream",
     "text": [
      "                                                                                \r"
     ]
    }
   ],
   "source": [
    "cycle_stations = loadLocalData(\"cycle_stations.csv\")\n",
    "cycle_hire = loadLocalData(\"cycle_hire.csv\")"
   ]
  },
  {
   "cell_type": "markdown",
   "metadata": {},
   "source": [
    "### Explore Data\n",
    "The cell below are some example of data exploration using __PySpark__"
   ]
  },
  {
   "cell_type": "code",
   "execution_count": 22,
   "metadata": {},
   "outputs": [
    {
     "name": "stdout",
     "output_type": "stream",
     "text": [
      "root\n",
      " |-- id: string (nullable = true)\n",
      " |-- installed: string (nullable = true)\n",
      " |-- latitude: string (nullable = true)\n",
      " |-- locked: string (nullable = true)\n",
      " |-- longitude: string (nullable = true)\n",
      " |-- name: string (nullable = true)\n",
      " |-- bikes_count: string (nullable = true)\n",
      " |-- docks_count: string (nullable = true)\n",
      " |-- nbEmptyDocks: string (nullable = true)\n",
      " |-- temporary: string (nullable = true)\n",
      " |-- terminal_name: string (nullable = true)\n",
      " |-- install_date: string (nullable = true)\n",
      " |-- removal_date: string (nullable = true)\n",
      "\n"
     ]
    }
   ],
   "source": [
    "cycle_stations.printSchema()"
   ]
  },
  {
   "cell_type": "code",
   "execution_count": 23,
   "metadata": {},
   "outputs": [
    {
     "data": {
      "text/plain": [
       "785"
      ]
     },
     "execution_count": 23,
     "metadata": {},
     "output_type": "execute_result"
    }
   ],
   "source": [
    "cycle_stations.count()"
   ]
  },
  {
   "cell_type": "code",
   "execution_count": 25,
   "metadata": {},
   "outputs": [
    {
     "name": "stdout",
     "output_type": "stream",
     "text": [
      "root\n",
      " |-- rental_id: string (nullable = true)\n",
      " |-- duration: string (nullable = true)\n",
      " |-- bike_id: string (nullable = true)\n",
      " |-- end_date: string (nullable = true)\n",
      " |-- end_station_id: string (nullable = true)\n",
      " |-- end_station_name: string (nullable = true)\n",
      " |-- start_date: string (nullable = true)\n",
      " |-- start_station_id: string (nullable = true)\n",
      " |-- start_station_name: string (nullable = true)\n",
      " |-- end_station_logical_terminal: string (nullable = true)\n",
      " |-- start_station_logical_terminal: string (nullable = true)\n",
      " |-- end_station_priority_id: string (nullable = true)\n",
      "\n"
     ]
    }
   ],
   "source": [
    "cycle_hire.printSchema()"
   ]
  },
  {
   "cell_type": "code",
   "execution_count": 24,
   "metadata": {},
   "outputs": [
    {
     "data": {
      "text/plain": [
       "20000"
      ]
     },
     "execution_count": 24,
     "metadata": {},
     "output_type": "execute_result"
    }
   ],
   "source": [
    "cycle_hire.count()"
   ]
  },
  {
   "cell_type": "code",
   "execution_count": 54,
   "metadata": {},
   "outputs": [
    {
     "name": "stdout",
     "output_type": "stream",
     "text": [
      "+---+---------+-----------+------+------------+--------------------+-----------+-----------+------------+---------+-------------+------------+------------+\n",
      "| id|installed|   latitude|locked|   longitude|                name|bikes_count|docks_count|nbEmptyDocks|temporary|terminal_name|install_date|removal_date|\n",
      "+---+---------+-----------+------+------------+--------------------+-----------+-----------+------------+---------+-------------+------------+------------+\n",
      "|789|     true|  51.538718| false|-0.011889482|Podium, Queen Eli...|         40|         40|           0|    false|       300021|  2016-01-11|        null|\n",
      "|819|     true|   51.50621| false|   -0.114842|Belvedere Road 2,...|         38|         38|           0|    false|       300246|  2016-10-13|        null|\n",
      "|334|     true|  51.505044| false|   -0.115851|Concert Hall Appr...|         10|         10|           0|    false|         2635|  2010-07-26|        null|\n",
      "|171|     true| 51.4916156| false|-0.186753859|Collingham Garden...|         14|         14|           0|    false|         3459|  2010-07-16|        null|\n",
      "| 49|     true|51.50706909| false|-0.145904427|Curzon Street, Ma...|         15|         16|           0|    false|         3437|  2010-07-10|        null|\n",
      "|173|     true|   51.50486| false|   -0.113001|Waterloo Road, So...|         15|         15|           0|    false|         1176|  2010-07-16|        null|\n",
      "|324|     true|51.49652013| false|-0.101384068|Ontario Street, E...|         15|         15|           0|    false|         1200|  2010-07-23|        null|\n",
      "| 40|     true|51.52127071| false|  -0.0755789|Commercial Street...|         16|         16|           0|    false|         1083|  2010-07-08|        null|\n",
      "|397|     true|   51.51348| false|    -0.17977|Devonshire Terrac...|         16|         16|           0|    false|         1227|  2011-03-02|        null|\n",
      "|325|     true|51.50908747| false|-0.129697889|St. Martin's Stre...|         18|         18|           0|    false|         1158|  2010-07-23|        null|\n",
      "+---+---------+-----------+------+------------+--------------------+-----------+-----------+------------+---------+-------------+------------+------------+\n",
      "only showing top 10 rows\n",
      "\n"
     ]
    }
   ],
   "source": [
    "cycle_stations.show(10)"
   ]
  },
  {
   "cell_type": "code",
   "execution_count": 28,
   "metadata": {},
   "outputs": [
    {
     "name": "stdout",
     "output_type": "stream",
     "text": [
      "+---------+--------+-------+--------------------+--------------+--------------------+--------------------+----------------+--------------------+----------------------------+------------------------------+-----------------------+\n",
      "|rental_id|duration|bike_id|            end_date|end_station_id|    end_station_name|          start_date|start_station_id|  start_station_name|end_station_logical_terminal|start_station_logical_terminal|end_station_priority_id|\n",
      "+---------+--------+-------+--------------------+--------------+--------------------+--------------------+----------------+--------------------+----------------------------+------------------------------+-----------------------+\n",
      "| 57920939|     300|   2342|2016-09-02T08:03:00Z|          null|Brushfield Street...|2016-09-02T07:58:00Z|            null|Selby Street, Whi...|                        1161|                        200135|                      1|\n",
      "| 58006930|    2100|   4105|2016-09-05T00:25:00Z|          null|Horseferry Road, ...|2016-09-04T23:50:00Z|            null|Tavistock Street,...|                        1170|                          1207|                      0|\n",
      "| 58072259|     420|   1591|2016-09-06T20:17:00Z|          null|Wellington Row, B...|2016-09-06T20:10:00Z|            null|Pott Street, Beth...|                      200165|                        200156|                      0|\n",
      "| 58002916|     780|  12940|2016-09-04T19:57:00Z|          null|Somerset House, S...|2016-09-04T19:44:00Z|            null|Ashley Place, Vic...|                      200068|                          1122|                      0|\n",
      "| 58040725|    1020|   2361|2016-09-06T08:15:00Z|          null|Stanhope Gate, Ma...|2016-09-06T07:58:00Z|            null|Belgrove Street ,...|                        3506|                          1011|                      0|\n",
      "| 57945145|     960|   5173|2016-09-02T18:31:00Z|          null|Pennington Street...|2016-09-02T18:15:00Z|            null|Newgate Street , ...|                      200090|                          1074|                      0|\n",
      "| 57910730|     660|   9771|2016-09-01T19:36:00Z|          null|Bouverie Street, ...|2016-09-01T19:25:00Z|            null|Great Tower Stree...|                        1021|                          1080|                      0|\n",
      "| 57872853|    2280|   5872|2016-08-31T22:01:00Z|          null|Grove End Road, S...|2016-08-31T21:23:00Z|            null|Albert Gate, Hyde...|                        1130|                          1132|                      0|\n",
      "| 57981789|    6240|  13650|2016-09-04T12:14:00Z|          null|Buckingham Gate, ...|2016-09-04T10:30:00Z|            null|Lancaster Gate , ...|                      200178|                        200017|                      0|\n",
      "| 57954398|     480|  10786|2016-09-03T04:04:00Z|          null|LMU Commercial Ro...|2016-09-03T03:56:00Z|            null|Bethnal Green Roa...|                        1105|                           973|                      0|\n",
      "+---------+--------+-------+--------------------+--------------+--------------------+--------------------+----------------+--------------------+----------------------------+------------------------------+-----------------------+\n",
      "only showing top 10 rows\n",
      "\n"
     ]
    }
   ],
   "source": [
    "cycle_hire.show(10)"
   ]
  },
  {
   "cell_type": "code",
   "execution_count": 55,
   "metadata": {},
   "outputs": [
    {
     "name": "stdout",
     "output_type": "stream",
     "text": [
      "+-------------------------------------------+-----------------------------------------+------------------+-----+\n",
      "|start_station_name                         |end_station_name                         |avg_duration      |count|\n",
      "+-------------------------------------------+-----------------------------------------+------------------+-----+\n",
      "|Fulham Broadway, Walham Green              |Sandilands Road, Walham Green            |321.8181818181818 |99   |\n",
      "|Erin Close, Walham Green                   |Sandilands Road, Walham Green            |276.27906976744185|86   |\n",
      "|Kensington Olympia Station, Olympia        |Phillimore Gardens, Kensington           |342.2950819672131 |61   |\n",
      "|York Hall, Bethnal Green                   |Pritchard's Road, Bethnal Green          |370.0             |60   |\n",
      "|Shoreditch High Street, Shoreditch         |Pritchard's Road, Bethnal Green          |420.0             |58   |\n",
      "|Hoxton Station, Hoxton                     |Pritchard's Road, Bethnal Green          |377.89473684210526|57   |\n",
      "|Hollybush Gardens, Bethnal Green           |Pritchard's Road, Bethnal Green          |423.39622641509436|53   |\n",
      "|Pritchard's Road, Bethnal Green            |Pritchard's Road, Bethnal Green          |3095.744680851064 |47   |\n",
      "|Olympia Way, Olympia                       |Phillimore Gardens, Kensington           |463.9024390243902 |41   |\n",
      "|Pott Street, Bethnal Green                 |Pritchard's Road, Bethnal Green          |307.3170731707317 |41   |\n",
      "|Clapham Common North side, Clapham Common  |Clapham Common North side, Clapham Common|4740.0            |39   |\n",
      "|Gwendwr Road, West Kensington              |Gwendwr Road, West Kensington            |1777.8947368421052|38   |\n",
      "|Woodstock Grove, Shepherd's Bush           |Gwendwr Road, West Kensington            |582.6315789473684 |38   |\n",
      "|Dunston Road , Haggerston                  |Pritchard's Road, Bethnal Green          |600.0             |36   |\n",
      "|Bethnal Green Road, Shoreditch             |Pritchard's Road, Bethnal Green          |868.2352941176471 |34   |\n",
      "|South Kensington Station, South Kensington |Kensington Gore, Knightsbridge           |5920.0            |33   |\n",
      "|Sandilands Road, Walham Green              |Sandilands Road, Walham Green            |4284.375          |32   |\n",
      "|Holland Park, Kensington                   |Phillimore Gardens, Kensington           |504.375           |32   |\n",
      "|Phillimore Gardens, Kensington             |Phillimore Gardens, Kensington           |2996.1290322580644|31   |\n",
      "|Granby Street, Shoreditch                  |Pritchard's Road, Bethnal Green          |638.0             |30   |\n",
      "|Parkway, Camden Town                       |Kensington Gore, Knightsbridge           |1646.0            |30   |\n",
      "|Hammersmith Road, Hammersmith              |Phillimore Gardens, Kensington           |612.0             |30   |\n",
      "|Westminster University, Marylebone         |Westminster University, Marylebone       |2960.689655172414 |29   |\n",
      "|Hyde Park Corner, Hyde Park                |Kensington Gore, Knightsbridge           |1504.1379310344828|29   |\n",
      "|Chadwell Street, Angel                     |River Street , Clerkenwell               |169.6551724137931 |29   |\n",
      "|Warren Street Station, Euston              |Westminster University, Marylebone       |651.4285714285714 |28   |\n",
      "|Leonard Circus , Shoreditch                |Pritchard's Road, Bethnal Green          |582.8571428571429 |28   |\n",
      "|Columbia Road, Shoreditch                  |Pritchard's Road, Bethnal Green          |462.85714285714283|28   |\n",
      "|Portman Square, Marylebone                 |Portman Square, Marylebone               |2955.0            |28   |\n",
      "|Regent's Row , Haggerston                  |Pritchard's Road, Bethnal Green          |867.8571428571429 |28   |\n",
      "|Old Street Station, St. Luke's             |Pritchard's Road, Bethnal Green          |833.3333333333334 |27   |\n",
      "|Warren Street Station, Euston              |Portman Square, Marylebone               |575.5555555555555 |27   |\n",
      "|Hyde Park Corner, Hyde Park                |Hyde Park Corner, Hyde Park              |2940.0            |27   |\n",
      "|Queensdale Road, Shepherd's Bush           |Phillimore Gardens, Kensington           |535.5555555555555 |27   |\n",
      "|Haggerston Road, Haggerston                |Pritchard's Road, Bethnal Green          |2122.222222222222 |27   |\n",
      "|Shepherd's Bush Road North, Shepherd's Bush|Phillimore Gardens, Kensington           |701.5384615384615 |26   |\n",
      "|Derry Street, Kensington                   |Phillimore Gardens, Kensington           |163.84615384615384|26   |\n",
      "|Wellington Arch, Hyde Park                 |Kensington Gore, Knightsbridge           |1952.5            |24   |\n",
      "|Hyde Park Corner, Hyde Park                |Phillimore Gardens, Kensington           |1105.0            |24   |\n",
      "|Albert Gardens, Stepney                    |Watney Market, Stepney                   |357.39130434782606|23   |\n",
      "|Clapham Common North Side, Clapham Common  |Clapham Common North Side, Clapham Common|5611.304347826087 |23   |\n",
      "|Great Dover Street, The Borough            |Houghton Street, Strand                  |1025.4545454545455|22   |\n",
      "|New Inn Yard, Shoreditch                   |Pritchard's Road, Bethnal Green          |500.0             |21   |\n",
      "|Berry Street, Clerkenwell                  |Pritchard's Road, Bethnal Green          |797.1428571428571 |21   |\n",
      "+-------------------------------------------+-----------------------------------------+------------------+-----+\n",
      "\n"
     ]
    }
   ],
   "source": [
    "cycle_hire.groupBy(\"start_station_name\", \"end_station_name\")\\\n",
    "    .agg(avg(\"duration\").alias(\"avg_duration\"), count(lit(1)).alias(\"count\"))\\\n",
    "    .where(\"count > 20\")\\\n",
    "    .orderBy([\"count\"], ascending =[0])\\\n",
    "    .show(50, truncate=False)"
   ]
  },
  {
   "cell_type": "code",
   "execution_count": 70,
   "metadata": {},
   "outputs": [
    {
     "name": "stdout",
     "output_type": "stream",
     "text": [
      "+---------+--------------------+----------------+--------------------+--------------+--------+--------------------+--------------------+\n",
      "|rental_id|  start_station_name|start_station_id|    end_station_name|end_station_id|duration|          start_date|            end_date|\n",
      "+---------+--------------------+----------------+--------------------+--------------+--------+--------------------+--------------------+\n",
      "| 57920939|Selby Street, Whi...|             565|Brushfield Street...|           251|     300|2016-09-02T07:58:00Z|2016-09-02T08:03:00Z|\n",
      "| 58006930|Tavistock Street,...|             335|Horseferry Road, ...|           221|    2100|2016-09-04T23:50:00Z|2016-09-05T00:25:00Z|\n",
      "| 58072259|Pott Street, Beth...|             479|Wellington Row, B...|           533|     420|2016-09-06T20:10:00Z|2016-09-06T20:17:00Z|\n",
      "| 58002916|Ashley Place, Vic...|             177|Somerset House, S...|           564|     780|2016-09-04T19:44:00Z|2016-09-04T19:57:00Z|\n",
      "| 58040725|Belgrove Street ,...|              14|Stanhope Gate, Ma...|           380|    1020|2016-09-06T07:58:00Z|2016-09-06T08:15:00Z|\n",
      "| 57945145|Newgate Street , ...|              71|Pennington Street...|           490|     960|2016-09-02T18:15:00Z|2016-09-02T18:31:00Z|\n",
      "| 57910730|Great Tower Stree...|             199|Bouverie Street, ...|            27|     660|2016-09-01T19:25:00Z|2016-09-01T19:36:00Z|\n",
      "| 57872853|Albert Gate, Hyde...|             303|Grove End Road, S...|           312|    2280|2016-08-31T21:23:00Z|2016-08-31T22:01:00Z|\n",
      "| 57981789|Lancaster Gate , ...|             524|Buckingham Gate, ...|           646|    6240|2016-09-04T10:30:00Z|2016-09-04T12:14:00Z|\n",
      "| 57954398|Bethnal Green Roa...|             132|LMU Commercial Ro...|           200|     480|2016-09-03T03:56:00Z|2016-09-03T04:04:00Z|\n",
      "| 58002007|Westferry DLR, Li...|             510|Stepney Green Sta...|           478|     660|2016-09-04T19:13:00Z|2016-09-04T19:24:00Z|\n",
      "| 58045488|Concert Hall Appr...|             336|Godliman Street, ...|            48|     660|2016-09-06T08:55:00Z|2016-09-06T09:06:00Z|\n",
      "| 57911095|Lightermans Road,...|             475|Preston's Road, C...|           563|     180|2016-09-01T19:33:00Z|2016-09-01T19:36:00Z|\n",
      "| 58074811|Pritchard's Road,...|             512|Brushfield Street...|           251|    1080|2016-09-06T22:09:00Z|2016-09-06T22:27:00Z|\n",
      "| 58011063|Belgrove Street ,...|              14|   East Road, Hoxton|            50|     720|2016-09-05T08:39:00Z|2016-09-05T08:51:00Z|\n",
      "| 57992165|Palace Gate, Kens...|             404|Black Lion Gate, ...|           307|    1560|2016-09-04T15:02:00Z|2016-09-04T15:28:00Z|\n",
      "| 58059890|Hatton Wall, Holborn|              17|Albert Square, St...|           802|    1680|2016-09-06T17:05:00Z|2016-09-06T17:33:00Z|\n",
      "| 58039759|Old Ford Road, Be...|             485|Sun Street, Liver...|           408|    1320|2016-09-06T07:42:00Z|2016-09-06T08:04:00Z|\n",
      "| 57999699|St. Katharine's W...|             452|Reardon Street, W...|           488|     540|2016-09-04T18:07:00Z|2016-09-04T18:16:00Z|\n",
      "| 58015676|Lambeth Palace Ro...|             815|Godliman Street, ...|            48|     780|2016-09-05T12:20:00Z|2016-09-05T12:33:00Z|\n",
      "+---------+--------------------+----------------+--------------------+--------------+--------+--------------------+--------------------+\n",
      "only showing top 20 rows\n",
      "\n"
     ]
    }
   ],
   "source": [
    "cycle_hire.alias(\"hires\").join(cycle_stations.alias(\"stationsA\"), col(\"hires.start_station_name\") == col(\"stationsA.name\"), \"inner\")\\\n",
    "    .join(cycle_stations.alias(\"stationsB\"), col(\"hires.end_station_name\") == col(\"stationsB.name\"), \"inner\")\\\n",
    "    .select(col(\"hires.rental_id\"), col(\"hires.start_station_name\"), col(\"stationsA.id\").alias(\"start_station_id\"), \n",
    "    col(\"hires.end_station_name\"), col(\"stationsB.id\").alias(\"end_station_id\"),\n",
    "    col(\"hires.duration\"), col(\"hires.start_date\"), col(\"hires.end_date\"))\\\n",
    "    .show()"
   ]
  },
  {
   "cell_type": "code",
   "execution_count": 8,
   "metadata": {},
   "outputs": [
    {
     "name": "stderr",
     "output_type": "stream",
     "text": [
      "                                                                                \r"
     ]
    },
    {
     "name": "stdout",
     "output_type": "stream",
     "text": [
      "2022-09-29T11:44:43,049 INFO [Thread-4] org.apache.hadoop.hive.ql.security.authorization.plugin.sqlstd.SQLStdHiveAccessController - Created SQLStdHiveAccessController for session context : HiveAuthzSessionContext [sessionString=eec526fb-72d3-4934-9e94-78c23eada66f, clientType=HIVECLI]\n",
      "2022-09-29T11:44:43,053 WARN [Thread-4] org.apache.hadoop.hive.ql.session.SessionState - METASTORE_FILTER_HOOK will be ignored, since hive.security.authorization.manager is set to instance of HiveAuthorizerFactory.\n",
      "2022-09-29T11:44:43,053 INFO [Thread-4] org.apache.hadoop.hive.metastore.HiveMetaStoreClient - Mestastore configuration metastore.filter.hook changed from org.apache.hadoop.hive.metastore.DefaultMetaStoreFilterHookImpl to org.apache.hadoop.hive.ql.security.authorization.plugin.AuthorizationMetaStoreFilterHook\n",
      "2022-09-29T11:44:43,059 INFO [Thread-4] org.apache.hadoop.hive.metastore.HiveMetaStoreClient - Closed a connection to metastore, current connections: 0\n",
      "2022-09-29T11:44:43,060 INFO [Thread-4] org.apache.hadoop.hive.metastore.HiveMetaStoreClient - Trying to connect to metastore with URI thrift://localhost:9083\n",
      "2022-09-29T11:44:43,063 INFO [Thread-4] org.apache.hadoop.hive.metastore.HiveMetaStoreClient - Opened a connection to metastore, current connections: 1\n",
      "2022-09-29T11:44:43,066 INFO [Thread-4] org.apache.hadoop.hive.metastore.HiveMetaStoreClient - Connected to metastore.\n",
      "2022-09-29T11:44:43,066 INFO [Thread-4] org.apache.hadoop.hive.metastore.RetryingMetaStoreClient - RetryingMetaStoreClient proxy=class org.apache.hadoop.hive.ql.metadata.SessionHiveMetaStoreClient ugi=gilangrama13 (auth:SIMPLE) retries=1 delay=1 lifetime=0\n",
      "2022-09-29T11:44:43,178 INFO [Thread-4] org.apache.hadoop.hive.metastore.HiveMetaStoreClient - Trying to connect to metastore with URI thrift://localhost:9083\n",
      "2022-09-29T11:44:43,178 INFO [Thread-4] org.apache.hadoop.hive.metastore.HiveMetaStoreClient - Opened a connection to metastore, current connections: 2\n",
      "2022-09-29T11:44:43,181 INFO [Thread-4] org.apache.hadoop.hive.metastore.HiveMetaStoreClient - Connected to metastore.\n",
      "2022-09-29T11:44:43,181 INFO [Thread-4] org.apache.hadoop.hive.metastore.RetryingMetaStoreClient - RetryingMetaStoreClient proxy=class org.apache.hadoop.hive.ql.metadata.SessionHiveMetaStoreClient ugi=gilangrama13 (auth:SIMPLE) retries=1 delay=1 lifetime=0\n"
     ]
    }
   ],
   "source": [
    "cycle_hire.alias(\"hires\").join(cycle_stations.alias(\"stationsA\"), col(\"hires.start_station_name\") == col(\"stationsA.name\"), \"inner\")\\\n",
    "    .join(cycle_stations.alias(\"stationsB\"), col(\"hires.end_station_name\") == col(\"stationsB.name\"), \"inner\")\\\n",
    "    .select(col(\"hires.rental_id\"), col(\"hires.start_station_name\"), col(\"stationsA.id\").alias(\"start_station_id\"), \n",
    "    col(\"hires.end_station_name\"), col(\"stationsB.id\").alias(\"end_station_id\"),\n",
    "    col(\"hires.duration\"), col(\"hires.start_date\"), col(\"hires.end_date\"))\\\n",
    "    .write.mode(\"overwrite\")\\\n",
    "    .saveAsTable(\"user_warehouse_db.cycle_used\")"
   ]
  },
  {
   "cell_type": "code",
   "execution_count": 10,
   "metadata": {},
   "outputs": [
    {
     "name": "stdout",
     "output_type": "stream",
     "text": [
      "2022-09-29T13:44:53,864 INFO [Thread-4] org.apache.hadoop.hive.metastore.HiveMetaStoreClient - Trying to connect to metastore with URI thrift://localhost:9083\n",
      "2022-09-29T13:44:53,865 INFO [Thread-4] org.apache.hadoop.hive.metastore.HiveMetaStoreClient - Opened a connection to metastore, current connections: 2\n",
      "2022-09-29T13:44:53,991 INFO [Thread-4] org.apache.hadoop.hive.metastore.HiveMetaStoreClient - Connected to metastore.\n",
      "2022-09-29T13:44:53,991 INFO [Thread-4] org.apache.hadoop.hive.metastore.RetryingMetaStoreClient - RetryingMetaStoreClient proxy=class org.apache.hadoop.hive.ql.metadata.SessionHiveMetaStoreClient ugi=gilangrama13 (auth:SIMPLE) retries=1 delay=1 lifetime=0\n"
     ]
    },
    {
     "name": "stderr",
     "output_type": "stream",
     "text": [
      "[Stage 4:===========================================================(1 + 0) / 1]\r"
     ]
    },
    {
     "name": "stdout",
     "output_type": "stream",
     "text": [
      "+--------+\n",
      "|count(1)|\n",
      "+--------+\n",
      "|   17850|\n",
      "+--------+\n",
      "\n"
     ]
    },
    {
     "name": "stderr",
     "output_type": "stream",
     "text": [
      "                                                                                \r"
     ]
    }
   ],
   "source": [
    "spark.sql(\"select count(*) from user_warehouse_db.cycle_used\").show()"
   ]
  },
  {
   "cell_type": "code",
   "execution_count": 74,
   "metadata": {},
   "outputs": [
    {
     "name": "stdout",
     "output_type": "stream",
     "text": [
      "+---------+--------------------+----------------+--------------------+--------------+--------+--------------------+--------------------+\n",
      "|rental_id|  start_station_name|start_station_id|    end_station_name|end_station_id|duration|          start_date|            end_date|\n",
      "+---------+--------------------+----------------+--------------------+--------------+--------+--------------------+--------------------+\n",
      "| 57920939|Selby Street, Whi...|             565|Brushfield Street...|           251|     300|2016-09-02T07:58:00Z|2016-09-02T08:03:00Z|\n",
      "| 58006930|Tavistock Street,...|             335|Horseferry Road, ...|           221|    2100|2016-09-04T23:50:00Z|2016-09-05T00:25:00Z|\n",
      "| 58072259|Pott Street, Beth...|             479|Wellington Row, B...|           533|     420|2016-09-06T20:10:00Z|2016-09-06T20:17:00Z|\n",
      "| 58002916|Ashley Place, Vic...|             177|Somerset House, S...|           564|     780|2016-09-04T19:44:00Z|2016-09-04T19:57:00Z|\n",
      "| 58040725|Belgrove Street ,...|              14|Stanhope Gate, Ma...|           380|    1020|2016-09-06T07:58:00Z|2016-09-06T08:15:00Z|\n",
      "| 57945145|Newgate Street , ...|              71|Pennington Street...|           490|     960|2016-09-02T18:15:00Z|2016-09-02T18:31:00Z|\n",
      "| 57910730|Great Tower Stree...|             199|Bouverie Street, ...|            27|     660|2016-09-01T19:25:00Z|2016-09-01T19:36:00Z|\n",
      "| 57872853|Albert Gate, Hyde...|             303|Grove End Road, S...|           312|    2280|2016-08-31T21:23:00Z|2016-08-31T22:01:00Z|\n",
      "| 57981789|Lancaster Gate , ...|             524|Buckingham Gate, ...|           646|    6240|2016-09-04T10:30:00Z|2016-09-04T12:14:00Z|\n",
      "| 57954398|Bethnal Green Roa...|             132|LMU Commercial Ro...|           200|     480|2016-09-03T03:56:00Z|2016-09-03T04:04:00Z|\n",
      "| 58002007|Westferry DLR, Li...|             510|Stepney Green Sta...|           478|     660|2016-09-04T19:13:00Z|2016-09-04T19:24:00Z|\n",
      "| 58045488|Concert Hall Appr...|             336|Godliman Street, ...|            48|     660|2016-09-06T08:55:00Z|2016-09-06T09:06:00Z|\n",
      "| 57911095|Lightermans Road,...|             475|Preston's Road, C...|           563|     180|2016-09-01T19:33:00Z|2016-09-01T19:36:00Z|\n",
      "| 58074811|Pritchard's Road,...|             512|Brushfield Street...|           251|    1080|2016-09-06T22:09:00Z|2016-09-06T22:27:00Z|\n",
      "| 58011063|Belgrove Street ,...|              14|   East Road, Hoxton|            50|     720|2016-09-05T08:39:00Z|2016-09-05T08:51:00Z|\n",
      "| 57992165|Palace Gate, Kens...|             404|Black Lion Gate, ...|           307|    1560|2016-09-04T15:02:00Z|2016-09-04T15:28:00Z|\n",
      "| 58059890|Hatton Wall, Holborn|              17|Albert Square, St...|           802|    1680|2016-09-06T17:05:00Z|2016-09-06T17:33:00Z|\n",
      "| 58039759|Old Ford Road, Be...|             485|Sun Street, Liver...|           408|    1320|2016-09-06T07:42:00Z|2016-09-06T08:04:00Z|\n",
      "| 57999699|St. Katharine's W...|             452|Reardon Street, W...|           488|     540|2016-09-04T18:07:00Z|2016-09-04T18:16:00Z|\n",
      "| 58015676|Lambeth Palace Ro...|             815|Godliman Street, ...|            48|     780|2016-09-05T12:20:00Z|2016-09-05T12:33:00Z|\n",
      "+---------+--------------------+----------------+--------------------+--------------+--------+--------------------+--------------------+\n",
      "only showing top 20 rows\n",
      "\n"
     ]
    }
   ],
   "source": [
    "spark.sql(\"select * from user_warehouse_db.cycle_used\").show()"
   ]
  },
  {
   "cell_type": "code",
   "execution_count": 10,
   "metadata": {},
   "outputs": [],
   "source": [
    "spark.stop()"
   ]
  }
 ],
 "metadata": {
  "kernelspec": {
   "display_name": "Python 3.8.10 ('pyspark-pipeline')",
   "language": "python",
   "name": "python3"
  },
  "language_info": {
   "codemirror_mode": {
    "name": "ipython",
    "version": 3
   },
   "file_extension": ".py",
   "mimetype": "text/x-python",
   "name": "python",
   "nbconvert_exporter": "python",
   "pygments_lexer": "ipython3",
   "version": "3.8.10"
  },
  "orig_nbformat": 4,
  "vscode": {
   "interpreter": {
    "hash": "84632ae53a4eb0c5a44055d93f1e8ab4c136d06466b39a5fa2066c8748780e7c"
   }
  }
 },
 "nbformat": 4,
 "nbformat_minor": 2
}
